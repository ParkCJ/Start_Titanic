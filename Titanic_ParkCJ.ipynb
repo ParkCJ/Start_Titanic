{
 "cells": [
  {
   "cell_type": "markdown",
   "metadata": {
    "colab_type": "text",
    "id": "z1i5udzeMk7-"
   },
   "source": [
    "# 1. 변수관찰 및 시각화 "
   ]
  },
  {
   "cell_type": "code",
   "execution_count": 568,
   "metadata": {
    "ExecuteTime": {
     "end_time": "2020-01-04T05:59:27.883310Z",
     "start_time": "2020-01-04T05:59:27.868349Z"
    }
   },
   "outputs": [],
   "source": [
    "import pandas as pd\n",
    "import numpy as np\n",
    "import locale\n",
    "locale.setlocale(locale.LC_ALL, '')\n",
    "import warnings\n",
    "warnings.filterwarnings('ignore')\n",
    "import matplotlib as mpl\n",
    "import seaborn as sns\n",
    "import matplotlib.pyplot as plt\n",
    "from sklearn import preprocessing \n",
    "import re\n",
    "import scipy as sp\n",
    "\n",
    "plt.style.use('fivethirtyeight')\n",
    "\n",
    "# 노트북 안에 그래프 그리기\n",
    "%matplotlib inline\n",
    "# 그래프 격자로 숫자 범위가 눈에 잘 띄도록 ggplot 스타일 사용\n",
    "plt.style.use('ggplot')\n",
    "# 그래프에서 마이너스 폰트 깨지는 문제에 대한 대처\n",
    "mpl.rcParams['axes.unicode_minus']=False\n",
    "\n",
    "# 컬럼을 다 보여주는 함수\n",
    "from IPython.display import display\n",
    "pd.options.display.max_columns = None\n",
    "\n",
    "# 한글 font 설정\n",
    "import matplotlib.font_manager as fm\n",
    "\n",
    "font_name = fm.FontProperties(fname = 'c:/Windows/Fonts/NanumGothic.ttf',size = 50).get_name()\n",
    "plt.rc('font',family = font_name)\n",
    "mpl.rcParams['axes.unicode_minus'] = False\n",
    "\n",
    "# model\n",
    "from sklearn.ensemble import RandomForestClassifier\n",
    "from sklearn.svm import SVC\n",
    "from sklearn.naive_bayes import MultinomialNB\n",
    "from sklearn.metrics import classification_report\n",
    "from sklearn.metrics import accuracy_score\n",
    "from sklearn import metrics\n",
    "from sklearn.model_selection import KFold"
   ]
  },
  {
   "cell_type": "code",
   "execution_count": 455,
   "metadata": {
    "ExecuteTime": {
     "end_time": "2020-01-04T05:43:52.440541Z",
     "start_time": "2020-01-04T05:43:51.429198Z"
    },
    "colab": {},
    "colab_type": "code",
    "id": "mdjSTnTGHyKi"
   },
   "outputs": [],
   "source": [
    "train = pd.read_csv('http://s3.amazonaws.com/assets.datacamp.com/course/Kaggle/train.csv')"
   ]
  },
  {
   "cell_type": "code",
   "execution_count": 456,
   "metadata": {
    "ExecuteTime": {
     "end_time": "2020-01-04T05:43:52.455455Z",
     "start_time": "2020-01-04T05:43:52.444517Z"
    },
    "colab": {
     "base_uri": "https://localhost:8080/",
     "height": 311
    },
    "colab_type": "code",
    "id": "508Fnq16INfj",
    "outputId": "a566b530-d051-4737-abdb-256f23b4d5bc"
   },
   "outputs": [
    {
     "name": "stdout",
     "output_type": "stream",
     "text": [
      "<class 'pandas.core.frame.DataFrame'>\n",
      "RangeIndex: 891 entries, 0 to 890\n",
      "Data columns (total 12 columns):\n",
      "PassengerId    891 non-null int64\n",
      "Survived       891 non-null int64\n",
      "Pclass         891 non-null int64\n",
      "Name           891 non-null object\n",
      "Sex            891 non-null object\n",
      "Age            714 non-null float64\n",
      "SibSp          891 non-null int64\n",
      "Parch          891 non-null int64\n",
      "Ticket         891 non-null object\n",
      "Fare           891 non-null float64\n",
      "Cabin          204 non-null object\n",
      "Embarked       889 non-null object\n",
      "dtypes: float64(2), int64(5), object(5)\n",
      "memory usage: 83.6+ KB\n"
     ]
    }
   ],
   "source": [
    "train.info()"
   ]
  },
  {
   "cell_type": "code",
   "execution_count": 457,
   "metadata": {
    "ExecuteTime": {
     "end_time": "2020-01-04T05:43:52.465426Z",
     "start_time": "2020-01-04T05:43:52.460442Z"
    },
    "colab": {
     "base_uri": "https://localhost:8080/",
     "height": 34
    },
    "colab_type": "code",
    "id": "Gl9eEETDINhl",
    "outputId": "557c7d22-88d2-4093-89cc-1b8ca2d77dc4"
   },
   "outputs": [
    {
     "name": "stdout",
     "output_type": "stream",
     "text": [
      "train`s shape : (891, 12)\n"
     ]
    }
   ],
   "source": [
    "print(\"train`s shape :\", train.shape)"
   ]
  },
  {
   "cell_type": "code",
   "execution_count": 458,
   "metadata": {
    "ExecuteTime": {
     "end_time": "2020-01-04T05:43:52.482382Z",
     "start_time": "2020-01-04T05:43:52.469417Z"
    },
    "colab": {
     "base_uri": "https://localhost:8080/",
     "height": 492
    },
    "colab_type": "code",
    "id": "cuzkjBRsINji",
    "outputId": "7e09bdd2-c323-421a-ef3d-d419f2414e46"
   },
   "outputs": [
    {
     "data": {
      "text/html": [
       "<div>\n",
       "<style scoped>\n",
       "    .dataframe tbody tr th:only-of-type {\n",
       "        vertical-align: middle;\n",
       "    }\n",
       "\n",
       "    .dataframe tbody tr th {\n",
       "        vertical-align: top;\n",
       "    }\n",
       "\n",
       "    .dataframe thead th {\n",
       "        text-align: right;\n",
       "    }\n",
       "</style>\n",
       "<table border=\"1\" class=\"dataframe\">\n",
       "  <thead>\n",
       "    <tr style=\"text-align: right;\">\n",
       "      <th></th>\n",
       "      <th>PassengerId</th>\n",
       "      <th>Survived</th>\n",
       "      <th>Pclass</th>\n",
       "      <th>Name</th>\n",
       "      <th>Sex</th>\n",
       "      <th>Age</th>\n",
       "      <th>SibSp</th>\n",
       "      <th>Parch</th>\n",
       "      <th>Ticket</th>\n",
       "      <th>Fare</th>\n",
       "      <th>Cabin</th>\n",
       "      <th>Embarked</th>\n",
       "    </tr>\n",
       "  </thead>\n",
       "  <tbody>\n",
       "    <tr>\n",
       "      <th>0</th>\n",
       "      <td>1</td>\n",
       "      <td>0</td>\n",
       "      <td>3</td>\n",
       "      <td>Braund, Mr. Owen Harris</td>\n",
       "      <td>male</td>\n",
       "      <td>22.0</td>\n",
       "      <td>1</td>\n",
       "      <td>0</td>\n",
       "      <td>A/5 21171</td>\n",
       "      <td>7.2500</td>\n",
       "      <td>NaN</td>\n",
       "      <td>S</td>\n",
       "    </tr>\n",
       "    <tr>\n",
       "      <th>1</th>\n",
       "      <td>2</td>\n",
       "      <td>1</td>\n",
       "      <td>1</td>\n",
       "      <td>Cumings, Mrs. John Bradley (Florence Briggs Th...</td>\n",
       "      <td>female</td>\n",
       "      <td>38.0</td>\n",
       "      <td>1</td>\n",
       "      <td>0</td>\n",
       "      <td>PC 17599</td>\n",
       "      <td>71.2833</td>\n",
       "      <td>C85</td>\n",
       "      <td>C</td>\n",
       "    </tr>\n",
       "    <tr>\n",
       "      <th>2</th>\n",
       "      <td>3</td>\n",
       "      <td>1</td>\n",
       "      <td>3</td>\n",
       "      <td>Heikkinen, Miss. Laina</td>\n",
       "      <td>female</td>\n",
       "      <td>26.0</td>\n",
       "      <td>0</td>\n",
       "      <td>0</td>\n",
       "      <td>STON/O2. 3101282</td>\n",
       "      <td>7.9250</td>\n",
       "      <td>NaN</td>\n",
       "      <td>S</td>\n",
       "    </tr>\n",
       "    <tr>\n",
       "      <th>3</th>\n",
       "      <td>4</td>\n",
       "      <td>1</td>\n",
       "      <td>1</td>\n",
       "      <td>Futrelle, Mrs. Jacques Heath (Lily May Peel)</td>\n",
       "      <td>female</td>\n",
       "      <td>35.0</td>\n",
       "      <td>1</td>\n",
       "      <td>0</td>\n",
       "      <td>113803</td>\n",
       "      <td>53.1000</td>\n",
       "      <td>C123</td>\n",
       "      <td>S</td>\n",
       "    </tr>\n",
       "    <tr>\n",
       "      <th>4</th>\n",
       "      <td>5</td>\n",
       "      <td>0</td>\n",
       "      <td>3</td>\n",
       "      <td>Allen, Mr. William Henry</td>\n",
       "      <td>male</td>\n",
       "      <td>35.0</td>\n",
       "      <td>0</td>\n",
       "      <td>0</td>\n",
       "      <td>373450</td>\n",
       "      <td>8.0500</td>\n",
       "      <td>NaN</td>\n",
       "      <td>S</td>\n",
       "    </tr>\n",
       "  </tbody>\n",
       "</table>\n",
       "</div>"
      ],
      "text/plain": [
       "   PassengerId  Survived  Pclass  \\\n",
       "0            1         0       3   \n",
       "1            2         1       1   \n",
       "2            3         1       3   \n",
       "3            4         1       1   \n",
       "4            5         0       3   \n",
       "\n",
       "                                                Name     Sex   Age  SibSp  \\\n",
       "0                            Braund, Mr. Owen Harris    male  22.0      1   \n",
       "1  Cumings, Mrs. John Bradley (Florence Briggs Th...  female  38.0      1   \n",
       "2                             Heikkinen, Miss. Laina  female  26.0      0   \n",
       "3       Futrelle, Mrs. Jacques Heath (Lily May Peel)  female  35.0      1   \n",
       "4                           Allen, Mr. William Henry    male  35.0      0   \n",
       "\n",
       "   Parch            Ticket     Fare Cabin Embarked  \n",
       "0      0         A/5 21171   7.2500   NaN        S  \n",
       "1      0          PC 17599  71.2833   C85        C  \n",
       "2      0  STON/O2. 3101282   7.9250   NaN        S  \n",
       "3      0            113803  53.1000  C123        S  \n",
       "4      0            373450   8.0500   NaN        S  "
      ]
     },
     "execution_count": 458,
     "metadata": {},
     "output_type": "execute_result"
    }
   ],
   "source": [
    "train.head()"
   ]
  },
  {
   "cell_type": "code",
   "execution_count": 459,
   "metadata": {
    "ExecuteTime": {
     "end_time": "2020-01-04T05:43:52.492357Z",
     "start_time": "2020-01-04T05:43:52.484411Z"
    },
    "colab": {
     "base_uri": "https://localhost:8080/",
     "height": 248
    },
    "colab_type": "code",
    "id": "JDbH2-tAINlz",
    "outputId": "9a61cab7-2424-4439-9d16-90491dfd9bd4"
   },
   "outputs": [
    {
     "data": {
      "text/plain": [
       "PassengerId      0\n",
       "Survived         0\n",
       "Pclass           0\n",
       "Name             0\n",
       "Sex              0\n",
       "Age            177\n",
       "SibSp            0\n",
       "Parch            0\n",
       "Ticket           0\n",
       "Fare             0\n",
       "Cabin          687\n",
       "Embarked         2\n",
       "dtype: int64"
      ]
     },
     "execution_count": 459,
     "metadata": {},
     "output_type": "execute_result"
    }
   ],
   "source": [
    "train.isna().sum()"
   ]
  },
  {
   "cell_type": "markdown",
   "metadata": {
    "colab_type": "text",
    "id": "gYcr3W0OMalA"
   },
   "source": [
    "## 변수관찰"
   ]
  },
  {
   "cell_type": "code",
   "execution_count": 460,
   "metadata": {
    "ExecuteTime": {
     "end_time": "2020-01-04T05:43:52.500333Z",
     "start_time": "2020-01-04T05:43:52.494349Z"
    },
    "colab": {
     "base_uri": "https://localhost:8080/",
     "height": 70
    },
    "colab_type": "code",
    "id": "1VIFw5pqINnn",
    "outputId": "0693c037-9a77-4b3f-a822-8a71d853f4ad"
   },
   "outputs": [
    {
     "data": {
      "text/plain": [
       "0    549\n",
       "1    342\n",
       "Name: Survived, dtype: int64"
      ]
     },
     "execution_count": 460,
     "metadata": {},
     "output_type": "execute_result"
    }
   ],
   "source": [
    "train['Survived'].value_counts()"
   ]
  },
  {
   "cell_type": "code",
   "execution_count": 461,
   "metadata": {
    "ExecuteTime": {
     "end_time": "2020-01-04T05:43:52.609074Z",
     "start_time": "2020-01-04T05:43:52.502328Z"
    },
    "colab": {
     "base_uri": "https://localhost:8080/",
     "height": 492
    },
    "colab_type": "code",
    "id": "hCnDb0qcINpl",
    "outputId": "4293cab7-3ef6-42ad-b540-a63d84887da5"
   },
   "outputs": [
    {
     "data": {
      "text/plain": [
       "<matplotlib.axes._subplots.AxesSubplot at 0x15575b45c50>"
      ]
     },
     "execution_count": 461,
     "metadata": {},
     "output_type": "execute_result"
    },
    {
     "data": {
      "image/png": "[encoded data removed]",
      "text/plain": [
       "<Figure size 432x288 with 1 Axes>"
      ]
     },
     "metadata": {},
     "output_type": "display_data"
    }
   ],
   "source": [
    "sns.countplot('Survived', data = train)"
   ]
  },
  {
   "cell_type": "code",
   "execution_count": 462,
   "metadata": {
    "ExecuteTime": {
     "end_time": "2020-01-04T05:43:52.696809Z",
     "start_time": "2020-01-04T05:43:52.611040Z"
    },
    "colab": {
     "base_uri": "https://localhost:8080/",
     "height": 70
    },
    "colab_type": "code",
    "id": "mI1dKKGDINrl",
    "outputId": "04c9c2c2-67fd-4ea2-ed15-55b87bf99fba"
   },
   "outputs": [
    {
     "data": {
      "text/plain": [
       "male      577\n",
       "female    314\n",
       "Name: Sex, dtype: int64"
      ]
     },
     "execution_count": 462,
     "metadata": {},
     "output_type": "execute_result"
    }
   ],
   "source": [
    "train['Sex'].value_counts()"
   ]
  },
  {
   "cell_type": "code",
   "execution_count": 463,
   "metadata": {
    "ExecuteTime": {
     "end_time": "2020-01-04T05:43:52.803557Z",
     "start_time": "2020-01-04T05:43:52.698804Z"
    },
    "colab": {
     "base_uri": "https://localhost:8080/",
     "height": 493
    },
    "colab_type": "code",
    "id": "K0tiNszjINti",
    "outputId": "b54cb620-8c69-46dc-e057-6f9762b1393c"
   },
   "outputs": [
    {
     "data": {
      "text/plain": [
       "<matplotlib.axes._subplots.AxesSubplot at 0x15575b22cc0>"
      ]
     },
     "execution_count": 463,
     "metadata": {},
     "output_type": "execute_result"
    },
    {
     "data": {
      "image/png": "[encoded data removed]",
      "text/plain": [
       "<Figure size 432x288 with 1 Axes>"
      ]
     },
     "metadata": {},
     "output_type": "display_data"
    }
   ],
   "source": [
    "sns.countplot('Sex',data = train)"
   ]
  },
  {
   "cell_type": "code",
   "execution_count": 464,
   "metadata": {
    "ExecuteTime": {
     "end_time": "2020-01-04T05:43:52.811538Z",
     "start_time": "2020-01-04T05:43:52.804555Z"
    },
    "colab": {
     "base_uri": "https://localhost:8080/",
     "height": 88
    },
    "colab_type": "code",
    "id": "7e7gfSHsINv3",
    "outputId": "f882a51e-6ba4-4c0e-ddac-68c5c6404459"
   },
   "outputs": [
    {
     "data": {
      "text/plain": [
       "Sex\n",
       "female    0.742038\n",
       "male      0.188908\n",
       "Name: Survived, dtype: float64"
      ]
     },
     "execution_count": 464,
     "metadata": {},
     "output_type": "execute_result"
    }
   ],
   "source": [
    "train.groupby('Sex')['Survived'].mean()"
   ]
  },
  {
   "cell_type": "code",
   "execution_count": 465,
   "metadata": {
    "ExecuteTime": {
     "end_time": "2020-01-04T05:43:52.941155Z",
     "start_time": "2020-01-04T05:43:52.813498Z"
    },
    "colab": {
     "base_uri": "https://localhost:8080/",
     "height": 520
    },
    "colab_type": "code",
    "id": "46RaifspINxa",
    "outputId": "e12a23e8-78f9-4b4b-aa9b-82fe7206c09b"
   },
   "outputs": [
    {
     "data": {
      "text/plain": [
       "<matplotlib.axes._subplots.AxesSubplot at 0x15575a78b38>"
      ]
     },
     "execution_count": 465,
     "metadata": {},
     "output_type": "execute_result"
    },
    {
     "data": {
      "image/png": "[encoded data removed]",
      "text/plain": [
       "<Figure size 432x288 with 1 Axes>"
      ]
     },
     "metadata": {},
     "output_type": "display_data"
    }
   ],
   "source": [
    "train.groupby('Sex')['Survived'].mean().plot.bar()"
   ]
  },
  {
   "cell_type": "code",
   "execution_count": 466,
   "metadata": {
    "ExecuteTime": {
     "end_time": "2020-01-04T05:43:52.948172Z",
     "start_time": "2020-01-04T05:43:52.943192Z"
    },
    "colab": {
     "base_uri": "https://localhost:8080/",
     "height": 88
    },
    "colab_type": "code",
    "id": "IgXWEuWNIojg",
    "outputId": "5772fb16-44d4-479e-9e5f-c5fb5559590c"
   },
   "outputs": [
    {
     "data": {
      "text/plain": [
       "3    491\n",
       "1    216\n",
       "2    184\n",
       "Name: Pclass, dtype: int64"
      ]
     },
     "execution_count": 466,
     "metadata": {},
     "output_type": "execute_result"
    }
   ],
   "source": [
    "train['Pclass'].value_counts()"
   ]
  },
  {
   "cell_type": "code",
   "execution_count": 467,
   "metadata": {
    "ExecuteTime": {
     "end_time": "2020-01-04T05:43:53.065860Z",
     "start_time": "2020-01-04T05:43:52.950162Z"
    },
    "colab": {
     "base_uri": "https://localhost:8080/",
     "height": 492
    },
    "colab_type": "code",
    "id": "dunPFZAVIomB",
    "outputId": "4d8ca7bd-3771-41f2-e22a-06f072073146"
   },
   "outputs": [
    {
     "data": {
      "text/plain": [
       "<matplotlib.axes._subplots.AxesSubplot at 0x155759047f0>"
      ]
     },
     "execution_count": 467,
     "metadata": {},
     "output_type": "execute_result"
    },
    {
     "data": {
      "image/png": "[encoded data removed]",
      "text/plain": [
       "<Figure size 432x288 with 1 Axes>"
      ]
     },
     "metadata": {},
     "output_type": "display_data"
    }
   ],
   "source": [
    "sns.countplot('Pclass',data = train)"
   ]
  },
  {
   "cell_type": "code",
   "execution_count": 468,
   "metadata": {
    "ExecuteTime": {
     "end_time": "2020-01-04T05:43:53.073800Z",
     "start_time": "2020-01-04T05:43:53.067856Z"
    },
    "colab": {
     "base_uri": "https://localhost:8080/",
     "height": 106
    },
    "colab_type": "code",
    "id": "sO0OqYO3Ion3",
    "outputId": "69360cfc-1f04-4528-f8ba-40685deb8da7"
   },
   "outputs": [
    {
     "data": {
      "text/plain": [
       "Pclass\n",
       "1    0.629630\n",
       "2    0.472826\n",
       "3    0.242363\n",
       "Name: Survived, dtype: float64"
      ]
     },
     "execution_count": 468,
     "metadata": {},
     "output_type": "execute_result"
    }
   ],
   "source": [
    "train.groupby('Pclass')['Survived'].mean()"
   ]
  },
  {
   "cell_type": "code",
   "execution_count": 469,
   "metadata": {
    "ExecuteTime": {
     "end_time": "2020-01-04T05:43:53.192483Z",
     "start_time": "2020-01-04T05:43:53.074797Z"
    },
    "colab": {
     "base_uri": "https://localhost:8080/",
     "height": 486
    },
    "colab_type": "code",
    "id": "2I8FA_2DIop4",
    "outputId": "445bbbd8-d170-4847-e788-47f40ed1d1d8"
   },
   "outputs": [
    {
     "data": {
      "text/plain": [
       "<matplotlib.axes._subplots.AxesSubplot at 0x155741a3a58>"
      ]
     },
     "execution_count": 469,
     "metadata": {},
     "output_type": "execute_result"
    },
    {
     "data": {
      "image/png": "[encoded data removed]",
      "text/plain": [
       "<Figure size 432x288 with 1 Axes>"
      ]
     },
     "metadata": {},
     "output_type": "display_data"
    }
   ],
   "source": [
    "train.groupby('Pclass')['Survived'].mean().plot.bar()"
   ]
  },
  {
   "cell_type": "code",
   "execution_count": 470,
   "metadata": {
    "ExecuteTime": {
     "end_time": "2020-01-04T05:43:53.200484Z",
     "start_time": "2020-01-04T05:43:53.194520Z"
    },
    "colab": {
     "base_uri": "https://localhost:8080/",
     "height": 88
    },
    "colab_type": "code",
    "id": "Q-FDGQqwIoru",
    "outputId": "50a79c2d-a746-4a26-990f-bd9af373a6c4"
   },
   "outputs": [
    {
     "data": {
      "text/plain": [
       "S    644\n",
       "C    168\n",
       "Q     77\n",
       "Name: Embarked, dtype: int64"
      ]
     },
     "execution_count": 470,
     "metadata": {},
     "output_type": "execute_result"
    }
   ],
   "source": [
    "train['Embarked'].value_counts()"
   ]
  },
  {
   "cell_type": "code",
   "execution_count": 471,
   "metadata": {
    "ExecuteTime": {
     "end_time": "2020-01-04T05:43:53.319183Z",
     "start_time": "2020-01-04T05:43:53.207444Z"
    },
    "colab": {
     "base_uri": "https://localhost:8080/",
     "height": 492
    },
    "colab_type": "code",
    "id": "RiCSUQ79Ioto",
    "outputId": "97f5d51c-85c6-430b-935b-44c1e63b09f8"
   },
   "outputs": [
    {
     "data": {
      "text/plain": [
       "<matplotlib.axes._subplots.AxesSubplot at 0x15575b05780>"
      ]
     },
     "execution_count": 471,
     "metadata": {},
     "output_type": "execute_result"
    },
    {
     "data": {
      "image/png": "[encoded data removed]",
      "text/plain": [
       "<Figure size 432x288 with 1 Axes>"
      ]
     },
     "metadata": {},
     "output_type": "display_data"
    }
   ],
   "source": [
    "sns.countplot('Embarked',data = train)"
   ]
  },
  {
   "cell_type": "code",
   "execution_count": 472,
   "metadata": {
    "ExecuteTime": {
     "end_time": "2020-01-04T05:43:53.332146Z",
     "start_time": "2020-01-04T05:43:53.325129Z"
    },
    "colab": {
     "base_uri": "https://localhost:8080/",
     "height": 106
    },
    "colab_type": "code",
    "id": "RYwvVEIDIovp",
    "outputId": "11950de5-0b2f-4b27-8c0e-e534fc6202e5"
   },
   "outputs": [
    {
     "data": {
      "text/plain": [
       "Embarked\n",
       "C    0.553571\n",
       "Q    0.389610\n",
       "S    0.336957\n",
       "Name: Survived, dtype: float64"
      ]
     },
     "execution_count": 472,
     "metadata": {},
     "output_type": "execute_result"
    }
   ],
   "source": [
    "train.groupby('Embarked')['Survived'].mean()"
   ]
  },
  {
   "cell_type": "code",
   "execution_count": 473,
   "metadata": {
    "ExecuteTime": {
     "end_time": "2020-01-04T05:43:53.455816Z",
     "start_time": "2020-01-04T05:43:53.334147Z"
    },
    "colab": {
     "base_uri": "https://localhost:8080/",
     "height": 488
    },
    "colab_type": "code",
    "id": "8RpBRpyRIoxc",
    "outputId": "972ba3b1-5d5e-4837-920e-9e57f01467ae"
   },
   "outputs": [
    {
     "data": {
      "text/plain": [
       "<matplotlib.axes._subplots.AxesSubplot at 0x15572d43c50>"
      ]
     },
     "execution_count": 473,
     "metadata": {},
     "output_type": "execute_result"
    },
    {
     "data": {
      "image/png": "[encoded data removed]",
      "text/plain": [
       "<Figure size 432x288 with 1 Axes>"
      ]
     },
     "metadata": {},
     "output_type": "display_data"
    }
   ],
   "source": [
    "train.groupby('Embarked')['Survived'].mean().plot.bar()"
   ]
  },
  {
   "cell_type": "code",
   "execution_count": 474,
   "metadata": {
    "ExecuteTime": {
     "end_time": "2020-01-04T05:43:53.465753Z",
     "start_time": "2020-01-04T05:43:53.456813Z"
    },
    "colab": {
     "base_uri": "https://localhost:8080/",
     "height": 177
    },
    "colab_type": "code",
    "id": "o5TaAxIsIozR",
    "outputId": "74e9e607-ba97-4652-a788-c3397f57be0e"
   },
   "outputs": [
    {
     "data": {
      "text/plain": [
       "count    714.000000\n",
       "mean      29.699118\n",
       "std       14.526497\n",
       "min        0.420000\n",
       "25%       20.125000\n",
       "50%       28.000000\n",
       "75%       38.000000\n",
       "max       80.000000\n",
       "Name: Age, dtype: float64"
      ]
     },
     "execution_count": 474,
     "metadata": {},
     "output_type": "execute_result"
    }
   ],
   "source": [
    "train['Age'].describe()"
   ]
  },
  {
   "cell_type": "code",
   "execution_count": 475,
   "metadata": {
    "ExecuteTime": {
     "end_time": "2020-01-04T05:43:53.639324Z",
     "start_time": "2020-01-04T05:43:53.467747Z"
    },
    "colab": {
     "base_uri": "https://localhost:8080/",
     "height": 473
    },
    "colab_type": "code",
    "id": "SePe8k91IwQm",
    "outputId": "fe2c02f2-caf1-4f19-b2b0-78426be28aac"
   },
   "outputs": [
    {
     "data": {
      "text/plain": [
       "<matplotlib.axes._subplots.AxesSubplot at 0x15575a60470>"
      ]
     },
     "execution_count": 475,
     "metadata": {},
     "output_type": "execute_result"
    },
    {
     "data": {
      "image/png": "[encoded data removed]",
      "text/plain": [
       "<Figure size 432x288 with 1 Axes>"
      ]
     },
     "metadata": {},
     "output_type": "display_data"
    }
   ],
   "source": [
    "train['Age'].plot.hist()"
   ]
  },
  {
   "cell_type": "code",
   "execution_count": 476,
   "metadata": {
    "ExecuteTime": {
     "end_time": "2020-01-04T05:43:53.645316Z",
     "start_time": "2020-01-04T05:43:53.640320Z"
    },
    "colab": {},
    "colab_type": "code",
    "id": "WiUMCakPOwGG"
   },
   "outputs": [],
   "source": [
    "train['Age'] = train['Age'].fillna(train['Age'].median())"
   ]
  },
  {
   "cell_type": "code",
   "execution_count": 477,
   "metadata": {
    "ExecuteTime": {
     "end_time": "2020-01-04T05:43:53.784899Z",
     "start_time": "2020-01-04T05:43:53.646269Z"
    },
    "colab": {
     "base_uri": "https://localhost:8080/",
     "height": 473
    },
    "colab_type": "code",
    "id": "LPY2cR-wIwSv",
    "outputId": "f11747bd-27c7-4dcc-f763-86b6d5dc2171"
   },
   "outputs": [
    {
     "data": {
      "text/plain": [
       "<matplotlib.axes._subplots.AxesSubplot at 0x155741e9da0>"
      ]
     },
     "execution_count": 477,
     "metadata": {},
     "output_type": "execute_result"
    },
    {
     "data": {
      "image/png": "[encoded data removed]",
      "text/plain": [
       "<Figure size 432x288 with 1 Axes>"
      ]
     },
     "metadata": {},
     "output_type": "display_data"
    }
   ],
   "source": [
    "sns.kdeplot(train['Age'])"
   ]
  },
  {
   "cell_type": "code",
   "execution_count": 478,
   "metadata": {
    "ExecuteTime": {
     "end_time": "2020-01-04T05:43:53.937530Z",
     "start_time": "2020-01-04T05:43:53.785897Z"
    },
    "colab": {
     "base_uri": "https://localhost:8080/",
     "height": 473
    },
    "colab_type": "code",
    "id": "-X5j-rMEIwVE",
    "outputId": "7f4fc119-196b-4e1b-8868-abdddfb556e6"
   },
   "outputs": [
    {
     "data": {
      "text/plain": [
       "<matplotlib.axes._subplots.AxesSubplot at 0x155741e9320>"
      ]
     },
     "execution_count": 478,
     "metadata": {},
     "output_type": "execute_result"
    },
    {
     "data": {
      "image/png": "[encoded data removed]",
      "text/plain": [
       "<Figure size 432x288 with 1 Axes>"
      ]
     },
     "metadata": {},
     "output_type": "display_data"
    }
   ],
   "source": [
    "sns.kdeplot(train.loc[train['Survived']==1,'Age'],label='survived')\n",
    "sns.kdeplot(train.loc[train['Survived']==0,'Age'],label='died')"
   ]
  },
  {
   "cell_type": "code",
   "execution_count": 479,
   "metadata": {
    "ExecuteTime": {
     "end_time": "2020-01-04T05:43:53.947465Z",
     "start_time": "2020-01-04T05:43:53.938531Z"
    },
    "colab": {
     "base_uri": "https://localhost:8080/",
     "height": 177
    },
    "colab_type": "code",
    "id": "pNS1KRCpI25-",
    "outputId": "bfa8b7e4-33b3-43a1-eb29-579bfc404766"
   },
   "outputs": [
    {
     "data": {
      "text/plain": [
       "count    891.000000\n",
       "mean       0.523008\n",
       "std        1.102743\n",
       "min        0.000000\n",
       "25%        0.000000\n",
       "50%        0.000000\n",
       "75%        1.000000\n",
       "max        8.000000\n",
       "Name: SibSp, dtype: float64"
      ]
     },
     "execution_count": 479,
     "metadata": {},
     "output_type": "execute_result"
    }
   ],
   "source": [
    "train['SibSp'].describe()"
   ]
  },
  {
   "cell_type": "code",
   "execution_count": 480,
   "metadata": {
    "ExecuteTime": {
     "end_time": "2020-01-04T05:43:54.094111Z",
     "start_time": "2020-01-04T05:43:53.949498Z"
    },
    "colab": {
     "base_uri": "https://localhost:8080/",
     "height": 492
    },
    "colab_type": "code",
    "id": "I3a0Ir4II276",
    "outputId": "524ebb61-7f58-4666-be83-d4019ae94876"
   },
   "outputs": [
    {
     "data": {
      "text/plain": [
       "<matplotlib.axes._subplots.AxesSubplot at 0x155742e86d8>"
      ]
     },
     "execution_count": 480,
     "metadata": {},
     "output_type": "execute_result"
    },
    {
     "data": {
      "image/png": "[encoded data removed]",
      "text/plain": [
       "<Figure size 432x288 with 1 Axes>"
      ]
     },
     "metadata": {},
     "output_type": "display_data"
    }
   ],
   "source": [
    "train.groupby('SibSp')['Survived'].mean().plot()"
   ]
  },
  {
   "cell_type": "code",
   "execution_count": 481,
   "metadata": {
    "ExecuteTime": {
     "end_time": "2020-01-04T05:43:54.104072Z",
     "start_time": "2020-01-04T05:43:54.096108Z"
    },
    "colab": {
     "base_uri": "https://localhost:8080/",
     "height": 177
    },
    "colab_type": "code",
    "id": "-2I3BhyyI292",
    "outputId": "dfa07ee8-cb14-4b21-a7b0-e8d7eac80dd4"
   },
   "outputs": [
    {
     "data": {
      "text/plain": [
       "count    891.000000\n",
       "mean      32.204208\n",
       "std       49.693429\n",
       "min        0.000000\n",
       "25%        7.910400\n",
       "50%       14.454200\n",
       "75%       31.000000\n",
       "max      512.329200\n",
       "Name: Fare, dtype: float64"
      ]
     },
     "execution_count": 481,
     "metadata": {},
     "output_type": "execute_result"
    }
   ],
   "source": [
    "train['Fare'].describe()"
   ]
  },
  {
   "cell_type": "code",
   "execution_count": 482,
   "metadata": {
    "ExecuteTime": {
     "end_time": "2020-01-04T05:43:54.249657Z",
     "start_time": "2020-01-04T05:43:54.106068Z"
    },
    "colab": {
     "base_uri": "https://localhost:8080/",
     "height": 473
    },
    "colab_type": "code",
    "id": "1I5tWutHI2__",
    "outputId": "b00c44e5-8992-4c6c-85a0-4cada0963533"
   },
   "outputs": [
    {
     "data": {
      "text/plain": [
       "<matplotlib.axes._subplots.AxesSubplot at 0x155758a97b8>"
      ]
     },
     "execution_count": 482,
     "metadata": {},
     "output_type": "execute_result"
    },
    {
     "data": {
      "image/png": "[encoded data removed]",
      "text/plain": [
       "<Figure size 432x288 with 1 Axes>"
      ]
     },
     "metadata": {},
     "output_type": "display_data"
    }
   ],
   "source": [
    "sns.kdeplot(train['Fare'])"
   ]
  },
  {
   "cell_type": "code",
   "execution_count": 483,
   "metadata": {
    "ExecuteTime": {
     "end_time": "2020-01-04T05:43:54.403282Z",
     "start_time": "2020-01-04T05:43:54.250654Z"
    },
    "colab": {
     "base_uri": "https://localhost:8080/",
     "height": 473
    },
    "colab_type": "code",
    "id": "3YDUbwISI3Bn",
    "outputId": "7bf8ccd7-5fd9-41a4-a6c6-fc545559c5f1"
   },
   "outputs": [
    {
     "data": {
      "text/plain": [
       "<matplotlib.axes._subplots.AxesSubplot at 0x155759a1d68>"
      ]
     },
     "execution_count": 483,
     "metadata": {},
     "output_type": "execute_result"
    },
    {
     "data": {
      "image/png": "[encoded data removed]",
      "text/plain": [
       "<Figure size 432x288 with 1 Axes>"
      ]
     },
     "metadata": {},
     "output_type": "display_data"
    }
   ],
   "source": [
    "sns.kdeplot(train.loc[train['Survived']==0,'Fare'],label='died')\n",
    "sns.kdeplot(train.loc[train['Survived']==1,'Fare'],label='survived')"
   ]
  },
  {
   "cell_type": "code",
   "execution_count": 484,
   "metadata": {
    "ExecuteTime": {
     "end_time": "2020-01-04T05:43:54.411223Z",
     "start_time": "2020-01-04T05:43:54.404283Z"
    },
    "colab": {},
    "colab_type": "code",
    "id": "xiAwQepnI8nm"
   },
   "outputs": [],
   "source": [
    "def pie_chart(x):\n",
    "    survived = train[train['Survived'] == 1][x].value_counts()\n",
    "    dead = train[train['Survived'] == 0][x].value_counts()\n",
    "    df = pd.DataFrame([survived,dead])\n",
    "    df.index = ['Survived','Dead']\n",
    "    df.plot(kind = 'pie', stacked = True, explode=[0,0.1], autopct = '%1.1f%%', subplots=True, shadow = True,figsize = (10,10))\n",
    "    plt.show()"
   ]
  },
  {
   "cell_type": "code",
   "execution_count": 485,
   "metadata": {
    "ExecuteTime": {
     "end_time": "2020-01-04T05:43:54.562856Z",
     "start_time": "2020-01-04T05:43:54.413252Z"
    },
    "colab": {
     "base_uri": "https://localhost:8080/",
     "height": 316
    },
    "colab_type": "code",
    "id": "WD59dYSgI8pq",
    "outputId": "65eb8ede-d8f6-447b-e263-8335941820b1"
   },
   "outputs": [
    {
     "data": {
      "image/png": "[encoded data removed]",
      "text/plain": [
       "<Figure size 720x720 with 2 Axes>"
      ]
     },
     "metadata": {},
     "output_type": "display_data"
    }
   ],
   "source": [
    "pie_chart('Sex')"
   ]
  },
  {
   "cell_type": "code",
   "execution_count": 486,
   "metadata": {
    "ExecuteTime": {
     "end_time": "2020-01-04T05:43:54.750355Z",
     "start_time": "2020-01-04T05:43:54.563816Z"
    },
    "colab": {
     "base_uri": "https://localhost:8080/",
     "height": 218
    },
    "colab_type": "code",
    "id": "xezCEhCFI8rt",
    "outputId": "b91e2939-06fc-4a6a-f674-97132ed4b2b9"
   },
   "outputs": [
    {
     "data": {
      "image/png": "[encoded data removed]",
      "text/plain": [
       "<Figure size 720x720 with 3 Axes>"
      ]
     },
     "metadata": {},
     "output_type": "display_data"
    }
   ],
   "source": [
    "pie_chart('Pclass')"
   ]
  },
  {
   "cell_type": "code",
   "execution_count": 487,
   "metadata": {
    "ExecuteTime": {
     "end_time": "2020-01-04T05:43:54.945853Z",
     "start_time": "2020-01-04T05:43:54.751354Z"
    },
    "colab": {
     "base_uri": "https://localhost:8080/",
     "height": 217
    },
    "colab_type": "code",
    "id": "LO1oi-NSI8to",
    "outputId": "234aa710-a097-4fc6-e40a-0a952347be91"
   },
   "outputs": [
    {
     "data": {
      "image/png": "[encoded data removed]",
      "text/plain": [
       "<Figure size 720x720 with 3 Axes>"
      ]
     },
     "metadata": {},
     "output_type": "display_data"
    }
   ],
   "source": [
    "pie_chart('Embarked')"
   ]
  },
  {
   "cell_type": "code",
   "execution_count": 488,
   "metadata": {
    "ExecuteTime": {
     "end_time": "2020-01-04T05:43:54.951812Z",
     "start_time": "2020-01-04T05:43:54.946829Z"
    },
    "colab": {},
    "colab_type": "code",
    "id": "89Q9W1_kI8vk"
   },
   "outputs": [],
   "source": [
    "def bar_chart(x):\n",
    "    survived = train[train['Survived'] == 1][x].value_counts()\n",
    "    dead = train[train['Survived'] == 0][x].value_counts()\n",
    "    df = pd.DataFrame([survived,dead])\n",
    "    df.index = ['Survived','Dead']\n",
    "    df.plot(kind = 'bar', stacked = True)\n",
    "    plt.show()"
   ]
  },
  {
   "cell_type": "code",
   "execution_count": 489,
   "metadata": {
    "ExecuteTime": {
     "end_time": "2020-01-04T05:43:55.070494Z",
     "start_time": "2020-01-04T05:43:54.953828Z"
    },
    "colab": {
     "base_uri": "https://localhost:8080/",
     "height": 495
    },
    "colab_type": "code",
    "id": "Hei-jARPIwXB",
    "outputId": "b50a54e8-4835-4f5b-ece2-8b1782d7b503"
   },
   "outputs": [
    {
     "data": {
      "image/png": "[encoded data removed]",
      "text/plain": [
       "<Figure size 432x288 with 1 Axes>"
      ]
     },
     "metadata": {},
     "output_type": "display_data"
    }
   ],
   "source": [
    "bar_chart('Sex')"
   ]
  },
  {
   "cell_type": "code",
   "execution_count": 490,
   "metadata": {
    "ExecuteTime": {
     "end_time": "2020-01-04T05:43:55.193173Z",
     "start_time": "2020-01-04T05:43:55.071494Z"
    },
    "colab": {
     "base_uri": "https://localhost:8080/",
     "height": 495
    },
    "colab_type": "code",
    "id": "k_HbHy5SIwZF",
    "outputId": "c17acd2d-d0b7-4be6-c9bb-d63222f69f79"
   },
   "outputs": [
    {
     "data": {
      "image/png": "[encoded data removed]",
      "text/plain": [
       "<Figure size 432x288 with 1 Axes>"
      ]
     },
     "metadata": {},
     "output_type": "display_data"
    }
   ],
   "source": [
    "bar_chart('Pclass')"
   ]
  },
  {
   "cell_type": "code",
   "execution_count": 491,
   "metadata": {
    "ExecuteTime": {
     "end_time": "2020-01-04T05:43:55.345764Z",
     "start_time": "2020-01-04T05:43:55.194131Z"
    },
    "colab": {
     "base_uri": "https://localhost:8080/",
     "height": 495
    },
    "colab_type": "code",
    "id": "ZMAY_3GWJF2j",
    "outputId": "2504ef7d-b595-4ddc-e7be-b8d58e64ae4b"
   },
   "outputs": [
    {
     "data": {
      "image/png": "[encoded data removed]",
      "text/plain": [
       "<Figure size 432x288 with 1 Axes>"
      ]
     },
     "metadata": {},
     "output_type": "display_data"
    }
   ],
   "source": [
    "bar_chart('SibSp')"
   ]
  },
  {
   "cell_type": "code",
   "execution_count": 492,
   "metadata": {
    "ExecuteTime": {
     "end_time": "2020-01-04T05:43:55.512317Z",
     "start_time": "2020-01-04T05:43:55.346722Z"
    },
    "colab": {
     "base_uri": "https://localhost:8080/",
     "height": 495
    },
    "colab_type": "code",
    "id": "QgyzogqUJF4i",
    "outputId": "a9c219d4-eb35-40f0-fe3f-50aaab89f2f6"
   },
   "outputs": [
    {
     "data": {
      "image/png": "[encoded data removed]",
      "text/plain": [
       "<Figure size 432x288 with 1 Axes>"
      ]
     },
     "metadata": {},
     "output_type": "display_data"
    }
   ],
   "source": [
    "bar_chart('Parch')"
   ]
  },
  {
   "cell_type": "code",
   "execution_count": 493,
   "metadata": {
    "ExecuteTime": {
     "end_time": "2020-01-04T05:43:55.630999Z",
     "start_time": "2020-01-04T05:43:55.513317Z"
    },
    "colab": {
     "base_uri": "https://localhost:8080/",
     "height": 495
    },
    "colab_type": "code",
    "id": "slkC3ObYJF6n",
    "outputId": "d3c48678-e1aa-41cf-e788-847fca772548"
   },
   "outputs": [
    {
     "data": {
      "image/png": "[encoded data removed]",
      "text/plain": [
       "<Figure size 432x288 with 1 Axes>"
      ]
     },
     "metadata": {},
     "output_type": "display_data"
    }
   ],
   "source": [
    "bar_chart('Embarked')"
   ]
  },
  {
   "cell_type": "markdown",
   "metadata": {
    "colab_type": "text",
    "id": "O4aU0rGDMpYC"
   },
   "source": [
    "# 2. Feature Engineering"
   ]
  },
  {
   "cell_type": "markdown",
   "metadata": {
    "colab_type": "text",
    "id": "gzhfmb2fJy82"
   },
   "source": [
    "#### Embarked의 결측치 2개에는 최빈값인 S를 채웠다."
   ]
  },
  {
   "cell_type": "code",
   "execution_count": 494,
   "metadata": {
    "ExecuteTime": {
     "end_time": "2020-01-04T05:43:55.637945Z",
     "start_time": "2020-01-04T05:43:55.632959Z"
    },
    "colab": {},
    "colab_type": "code",
    "id": "_o6-nrUzJF8k"
   },
   "outputs": [],
   "source": [
    "train['Embarked'] = train['Embarked'].fillna('S')"
   ]
  },
  {
   "cell_type": "markdown",
   "metadata": {
    "colab_type": "text",
    "id": "310OWlG7J2vd"
   },
   "source": [
    "#### SibSp와 Parch에 + 1을 하여 가족수 변수를 생성하였다."
   ]
  },
  {
   "cell_type": "code",
   "execution_count": 495,
   "metadata": {
    "ExecuteTime": {
     "end_time": "2020-01-04T05:43:55.648916Z",
     "start_time": "2020-01-04T05:43:55.639972Z"
    },
    "colab": {},
    "colab_type": "code",
    "id": "ruJ4UDegJav9"
   },
   "outputs": [],
   "source": [
    "train['Family_size'] = train['SibSp'] + train['Parch'] + 1"
   ]
  },
  {
   "cell_type": "markdown",
   "metadata": {
    "colab_type": "text",
    "id": "mI7-jqivJ7KH"
   },
   "source": [
    "#### Name의 이름을 추출하여 Main_name 변수 생성"
   ]
  },
  {
   "cell_type": "code",
   "execution_count": 496,
   "metadata": {
    "ExecuteTime": {
     "end_time": "2020-01-04T05:43:55.656894Z",
     "start_time": "2020-01-04T05:43:55.650910Z"
    },
    "colab": {},
    "colab_type": "code",
    "id": "Nl51LGjuJayN"
   },
   "outputs": [],
   "source": [
    "x = train['Name']\n",
    "mid_name = x.str.extract('([A-Za-z]+)\\.', expand = False)"
   ]
  },
  {
   "cell_type": "code",
   "execution_count": 497,
   "metadata": {
    "ExecuteTime": {
     "end_time": "2020-01-04T05:43:55.665870Z",
     "start_time": "2020-01-04T05:43:55.658900Z"
    },
    "colab": {},
    "colab_type": "code",
    "id": "WRH-LsfEJaz8"
   },
   "outputs": [],
   "source": [
    "train['Main_name'] = mid_name"
   ]
  },
  {
   "cell_type": "code",
   "execution_count": 498,
   "metadata": {
    "ExecuteTime": {
     "end_time": "2020-01-04T05:43:55.708755Z",
     "start_time": "2020-01-04T05:43:55.668863Z"
    },
    "colab": {},
    "colab_type": "code",
    "id": "2lSQpdSqJa1t"
   },
   "outputs": [],
   "source": [
    "train.loc[train['Main_name'] == 'Mlle', 'Main_name'] = 'Miss'\n",
    "train.loc[train['Main_name'] == 'Ms','Main_name'] = 'Miss'\n",
    "train.loc[train['Main_name'] == 'Mme', 'Main_name'] = 'Mrs'\n",
    "train.loc[train['Main_name'] == 'Capt', 'Main_name'] = 'Others'\n",
    "train.loc[train['Main_name'] == 'Col', 'Main_name'] = 'Others'\n",
    "train.loc[train['Main_name'] == 'Countess', 'Main_name'] = 'Others'\n",
    "train.loc[train['Main_name'] == 'Don', 'Main_name'] = 'Others'\n",
    "train.loc[train['Main_name'] == 'Dr', 'Main_name'] = 'Others'\n",
    "train.loc[train['Main_name'] == 'Jonkheer' , 'Main_name'] = 'Others'\n",
    "train.loc[train['Main_name'] == 'Lady', 'Main_name'] = 'Others'\n",
    "train.loc[train['Main_name'] == 'Major', 'Main_name'] = 'Others'\n",
    "train.loc[train['Main_name'] == 'Rev', 'Main_name'] = 'Others'\n",
    "train.loc[train['Main_name'] == 'Sir', 'Main_name'] = 'Others'"
   ]
  },
  {
   "cell_type": "markdown",
   "metadata": {
    "colab_type": "text",
    "id": "ayl6u7fDJlf8"
   },
   "source": [
    "#### Age의 결측값은 Familly_Size의 평균값으로 대체하였고 Main_name의 중앙값을 사용하였다."
   ]
  },
  {
   "cell_type": "code",
   "execution_count": 499,
   "metadata": {
    "ExecuteTime": {
     "end_time": "2020-01-04T05:43:55.717732Z",
     "start_time": "2020-01-04T05:43:55.710750Z"
    },
    "colab": {},
    "colab_type": "code",
    "id": "pL2pmXhdJGAT"
   },
   "outputs": [],
   "source": [
    "train['Age'] = train['Age'].fillna(train.groupby('Main_name')['Age'].transform(\"median\"))"
   ]
  },
  {
   "cell_type": "code",
   "execution_count": 500,
   "metadata": {
    "ExecuteTime": {
     "end_time": "2020-01-04T05:43:55.726708Z",
     "start_time": "2020-01-04T05:43:55.718729Z"
    }
   },
   "outputs": [
    {
     "data": {
      "text/plain": [
       "PassengerId      0\n",
       "Survived         0\n",
       "Pclass           0\n",
       "Name             0\n",
       "Sex              0\n",
       "Age              0\n",
       "SibSp            0\n",
       "Parch            0\n",
       "Ticket           0\n",
       "Fare             0\n",
       "Cabin          687\n",
       "Embarked         0\n",
       "Family_size      0\n",
       "Main_name        0\n",
       "dtype: int64"
      ]
     },
     "execution_count": 500,
     "metadata": {},
     "output_type": "execute_result"
    }
   ],
   "source": [
    "train.isna().sum()"
   ]
  },
  {
   "cell_type": "markdown",
   "metadata": {
    "colab_type": "text",
    "id": "52dOfCXIKC7A"
   },
   "source": [
    "#### 각 변수별로 구간화를 진행하여 새 변수를 만들었다."
   ]
  },
  {
   "cell_type": "code",
   "execution_count": 501,
   "metadata": {
    "ExecuteTime": {
     "end_time": "2020-01-04T05:43:55.734685Z",
     "start_time": "2020-01-04T05:43:55.729699Z"
    },
    "colab": {},
    "colab_type": "code",
    "id": "xNIltFcDJlEA"
   },
   "outputs": [],
   "source": [
    "x= train['Age']\n",
    "def Age_group(x):\n",
    "    if x <= 10 :\n",
    "        return '0'\n",
    "    elif x > 10 and x <= 25 :\n",
    "        return '1'\n",
    "    elif x > 25 and x <= 40 :\n",
    "        return '2'\n",
    "    elif x > 40 and x <= 60:\n",
    "        return '3'\n",
    "    else :\n",
    "        return '4'"
   ]
  },
  {
   "cell_type": "code",
   "execution_count": 502,
   "metadata": {
    "ExecuteTime": {
     "end_time": "2020-01-04T05:43:55.741666Z",
     "start_time": "2020-01-04T05:43:55.736679Z"
    },
    "colab": {},
    "colab_type": "code",
    "id": "n2jRh9juJlGa"
   },
   "outputs": [],
   "source": [
    "train['Age_group'] = train['Age'].map(lambda x : Age_group(x))"
   ]
  },
  {
   "cell_type": "code",
   "execution_count": 503,
   "metadata": {
    "ExecuteTime": {
     "end_time": "2020-01-04T05:43:55.750642Z",
     "start_time": "2020-01-04T05:43:55.744660Z"
    },
    "colab": {},
    "colab_type": "code",
    "id": "RR9aLWB4JlIZ"
   },
   "outputs": [],
   "source": [
    "x= train['Fare']\n",
    "def Fare_group(x):\n",
    "    if x <= 10 :\n",
    "        return '0'\n",
    "    elif x > 10 and x <= 25 :\n",
    "        return '1'\n",
    "    elif x > 25 and x <= 50 :\n",
    "        return '2'\n",
    "    elif x > 50 and x <= 100 :\n",
    "        return '3'\n",
    "    else :\n",
    "        return '4'"
   ]
  },
  {
   "cell_type": "code",
   "execution_count": 504,
   "metadata": {
    "ExecuteTime": {
     "end_time": "2020-01-04T05:43:55.758625Z",
     "start_time": "2020-01-04T05:43:55.752637Z"
    },
    "colab": {},
    "colab_type": "code",
    "id": "qgo3geS0KItM"
   },
   "outputs": [],
   "source": [
    "train['Fare_group'] = train['Fare'].map(lambda x : Fare_group(x))"
   ]
  },
  {
   "cell_type": "code",
   "execution_count": 505,
   "metadata": {
    "ExecuteTime": {
     "end_time": "2020-01-04T05:43:55.764607Z",
     "start_time": "2020-01-04T05:43:55.760654Z"
    },
    "colab": {},
    "colab_type": "code",
    "id": "AtIQOPPwKIvN"
   },
   "outputs": [],
   "source": [
    "x= train['Family_size']\n",
    "def F_group(x):\n",
    "    if x == 1 :\n",
    "        return '0'\n",
    "    elif x > 1 and x < 4:\n",
    "        return '1'\n",
    "    elif x >= 4 and x < 8:\n",
    "        return '2'\n",
    "    elif x>=8 and x < 10:\n",
    "        return '3'\n",
    "    else:\n",
    "        return '4'"
   ]
  },
  {
   "cell_type": "code",
   "execution_count": 506,
   "metadata": {
    "ExecuteTime": {
     "end_time": "2020-01-04T05:43:55.775577Z",
     "start_time": "2020-01-04T05:43:55.768596Z"
    },
    "colab": {},
    "colab_type": "code",
    "id": "QYeOacwCKIxR"
   },
   "outputs": [],
   "source": [
    "train['F_group'] = train['Family_size'].map(lambda x : F_group(x))"
   ]
  },
  {
   "cell_type": "markdown",
   "metadata": {
    "colab_type": "text",
    "id": "LZ49AJrQKNPP"
   },
   "source": [
    "#### Cabin 변수는 결측값 비율이 77%이므로 분석에서 제외"
   ]
  },
  {
   "cell_type": "code",
   "execution_count": 507,
   "metadata": {
    "ExecuteTime": {
     "end_time": "2020-01-04T05:43:55.785593Z",
     "start_time": "2020-01-04T05:43:55.779566Z"
    }
   },
   "outputs": [
    {
     "name": "stdout",
     "output_type": "stream",
     "text": [
      "Cabin`s NA : 0.7710437710437711\n"
     ]
    }
   ],
   "source": [
    "print('Cabin`s NA :', train['Cabin'].isna().sum() / len(train))"
   ]
  },
  {
   "cell_type": "markdown",
   "metadata": {},
   "source": [
    "#### Ticket변수는 첫번째 변수를 따서 영어는 0 숫자는 1로 mapping"
   ]
  },
  {
   "cell_type": "code",
   "execution_count": 508,
   "metadata": {
    "ExecuteTime": {
     "end_time": "2020-01-04T05:43:55.791548Z",
     "start_time": "2020-01-04T05:43:55.786583Z"
    },
    "colab": {},
    "colab_type": "code",
    "id": "G4Zt0ARyKc5x"
   },
   "outputs": [],
   "source": [
    "train['Ticket'] = train['Ticket'].astype(str)"
   ]
  },
  {
   "cell_type": "code",
   "execution_count": 509,
   "metadata": {
    "ExecuteTime": {
     "end_time": "2020-01-04T05:43:55.801508Z",
     "start_time": "2020-01-04T05:43:55.795523Z"
    },
    "colab": {},
    "colab_type": "code",
    "id": "R3Vzk8hLKc72"
   },
   "outputs": [],
   "source": [
    "train['Ticket_title'] = train['Ticket'].str[:1]"
   ]
  },
  {
   "cell_type": "code",
   "execution_count": 510,
   "metadata": {
    "ExecuteTime": {
     "end_time": "2020-01-04T05:43:55.809485Z",
     "start_time": "2020-01-04T05:43:55.803503Z"
    },
    "colab": {},
    "colab_type": "code",
    "id": "ctK9MTBkKc9g"
   },
   "outputs": [],
   "source": [
    "Ticket_mapping = {'P' : 0, 'S' :0, 'C' : 0, 'A' :0, 'W' : 0,'F' : 0, 'L':0, '3' : 1,'2':1,'1':1,'4' :1,'7':1,'6':1,'5':1,'8':1,'9':1}"
   ]
  },
  {
   "cell_type": "code",
   "execution_count": 511,
   "metadata": {
    "ExecuteTime": {
     "end_time": "2020-01-04T05:43:55.817464Z",
     "start_time": "2020-01-04T05:43:55.812478Z"
    },
    "colab": {},
    "colab_type": "code",
    "id": "6GeqRokYKp7_"
   },
   "outputs": [],
   "source": [
    "train['Ticket_title'] = train['Ticket_title'].map(Ticket_mapping)"
   ]
  },
  {
   "cell_type": "code",
   "execution_count": 512,
   "metadata": {
    "ExecuteTime": {
     "end_time": "2020-01-04T05:43:55.824446Z",
     "start_time": "2020-01-04T05:43:55.818461Z"
    },
    "colab": {},
    "colab_type": "code",
    "id": "TY_fL7Z6Kp-C"
   },
   "outputs": [],
   "source": [
    "train['Ticket_title'] = train['Ticket_title'].astype(float)"
   ]
  },
  {
   "cell_type": "markdown",
   "metadata": {
    "colab_type": "text",
    "id": "2OWeZflKK04x"
   },
   "source": [
    "#### 머신러닝 모델은 숫자만 인식하므로 범주형 변수에 대해 get_dummies를 이용하여 숫자형으로 변형시켰다."
   ]
  },
  {
   "cell_type": "code",
   "execution_count": 513,
   "metadata": {
    "ExecuteTime": {
     "end_time": "2020-01-04T05:43:55.833421Z",
     "start_time": "2020-01-04T05:43:55.827437Z"
    }
   },
   "outputs": [],
   "source": [
    "train['Sex'] = train['Sex'].map({'female' : 0, 'male' : 1})"
   ]
  },
  {
   "cell_type": "code",
   "execution_count": 514,
   "metadata": {
    "ExecuteTime": {
     "end_time": "2020-01-04T05:43:59.488683Z",
     "start_time": "2020-01-04T05:43:59.474720Z"
    }
   },
   "outputs": [],
   "source": [
    "train = pd.get_dummies(train, columns = ['Age_group','Fare_group','Embarked','Main_name','F_group','Pclass'])"
   ]
  },
  {
   "cell_type": "markdown",
   "metadata": {
    "colab_type": "text",
    "id": "TQUKncb8K_7U"
   },
   "source": [
    "## test set에서도 train set과 동일한 과정을 진행하였다."
   ]
  },
  {
   "cell_type": "code",
   "execution_count": 515,
   "metadata": {
    "ExecuteTime": {
     "end_time": "2020-01-04T05:44:01.789990Z",
     "start_time": "2020-01-04T05:44:00.998900Z"
    },
    "colab": {},
    "colab_type": "code",
    "id": "kyHqKHHdKqB5"
   },
   "outputs": [],
   "source": [
    "test = pd.read_csv('http://s3.amazonaws.com/assets.datacamp.com/course/Kaggle/test.csv',engine = 'python')"
   ]
  },
  {
   "cell_type": "code",
   "execution_count": 516,
   "metadata": {
    "ExecuteTime": {
     "end_time": "2020-01-04T05:44:03.007565Z",
     "start_time": "2020-01-04T05:44:03.003539Z"
    },
    "colab": {},
    "colab_type": "code",
    "id": "yVaa-EVrKqD9"
   },
   "outputs": [],
   "source": [
    "test['Family_size'] = test['SibSp'] + test['Parch'] + 1"
   ]
  },
  {
   "cell_type": "code",
   "execution_count": 517,
   "metadata": {
    "ExecuteTime": {
     "end_time": "2020-01-04T05:44:03.189077Z",
     "start_time": "2020-01-04T05:44:03.184057Z"
    },
    "colab": {
     "base_uri": "https://localhost:8080/",
     "height": 195
    },
    "colab_type": "code",
    "id": "9fb1m2eCKqFh",
    "outputId": "a867eb40-9561-46a3-b774-c7622409e597"
   },
   "outputs": [
    {
     "data": {
      "text/plain": [
       "1     253\n",
       "2      74\n",
       "3      57\n",
       "4      14\n",
       "5       7\n",
       "11      4\n",
       "7       4\n",
       "6       3\n",
       "8       2\n",
       "Name: Family_size, dtype: int64"
      ]
     },
     "execution_count": 517,
     "metadata": {},
     "output_type": "execute_result"
    }
   ],
   "source": [
    "test['Family_size'].value_counts()"
   ]
  },
  {
   "cell_type": "markdown",
   "metadata": {},
   "source": [
    "#### . test셋에서도 Cabin의 결측치가 78%이므로 제외"
   ]
  },
  {
   "cell_type": "code",
   "execution_count": 518,
   "metadata": {
    "ExecuteTime": {
     "end_time": "2020-01-04T05:44:05.532776Z",
     "start_time": "2020-01-04T05:44:05.523801Z"
    }
   },
   "outputs": [
    {
     "data": {
      "text/plain": [
       "PassengerId    0.000000\n",
       "Pclass         0.000000\n",
       "Name           0.000000\n",
       "Sex            0.000000\n",
       "Age            0.205742\n",
       "SibSp          0.000000\n",
       "Parch          0.000000\n",
       "Ticket         0.000000\n",
       "Fare           0.002392\n",
       "Cabin          0.782297\n",
       "Embarked       0.000000\n",
       "Family_size    0.000000\n",
       "dtype: float64"
      ]
     },
     "execution_count": 518,
     "metadata": {},
     "output_type": "execute_result"
    }
   ],
   "source": [
    "test.isna().sum() / len(test)"
   ]
  },
  {
   "cell_type": "markdown",
   "metadata": {},
   "source": [
    "#### Ticket 변수는 train과 마찬가지로 feature engineering"
   ]
  },
  {
   "cell_type": "code",
   "execution_count": 519,
   "metadata": {
    "ExecuteTime": {
     "end_time": "2020-01-04T05:44:05.910767Z",
     "start_time": "2020-01-04T05:44:05.906777Z"
    },
    "colab": {},
    "colab_type": "code",
    "id": "2ZZBjbX2LJ47"
   },
   "outputs": [],
   "source": [
    "test['Ticket'] = test['Ticket'].astype(str)"
   ]
  },
  {
   "cell_type": "code",
   "execution_count": 520,
   "metadata": {
    "ExecuteTime": {
     "end_time": "2020-01-04T05:44:06.316680Z",
     "start_time": "2020-01-04T05:44:06.310698Z"
    },
    "colab": {},
    "colab_type": "code",
    "id": "rnaRW6aRLJ64"
   },
   "outputs": [],
   "source": [
    "test['Ticket_title'] = test['Ticket'].str[:1]"
   ]
  },
  {
   "cell_type": "code",
   "execution_count": 521,
   "metadata": {
    "ExecuteTime": {
     "end_time": "2020-01-04T05:44:06.559069Z",
     "start_time": "2020-01-04T05:44:06.551054Z"
    },
    "colab": {
     "base_uri": "https://localhost:8080/",
     "height": 284
    },
    "colab_type": "code",
    "id": "ExwJaAewLJ80",
    "outputId": "96311336-ca0e-468e-84a2-6440e83e727c"
   },
   "outputs": [
    {
     "data": {
      "text/plain": [
       "3    128\n",
       "2     95\n",
       "1     64\n",
       "S     33\n",
       "P     33\n",
       "C     30\n",
       "A     13\n",
       "F      6\n",
       "W      6\n",
       "7      4\n",
       "6      3\n",
       "L      1\n",
       "9      1\n",
       "4      1\n",
       "Name: Ticket_title, dtype: int64"
      ]
     },
     "execution_count": 521,
     "metadata": {},
     "output_type": "execute_result"
    }
   ],
   "source": [
    "test['Ticket_title'].value_counts()"
   ]
  },
  {
   "cell_type": "code",
   "execution_count": 522,
   "metadata": {
    "ExecuteTime": {
     "end_time": "2020-01-04T05:44:06.703680Z",
     "start_time": "2020-01-04T05:44:06.698665Z"
    },
    "colab": {},
    "colab_type": "code",
    "id": "cMzKVG8ZLJ-u"
   },
   "outputs": [],
   "source": [
    "Ticket_mapping2 = {'3':1,'2':1,'1':1,'P':0,'S':0,'C':0,'A':0,'F':0,'W':0,'7':1,'6':1,'4':1,'9':1,'L':0}"
   ]
  },
  {
   "cell_type": "code",
   "execution_count": 523,
   "metadata": {
    "ExecuteTime": {
     "end_time": "2020-01-04T05:44:08.019162Z",
     "start_time": "2020-01-04T05:44:08.012149Z"
    },
    "colab": {},
    "colab_type": "code",
    "id": "QLhn1Rf-LKA-"
   },
   "outputs": [],
   "source": [
    "test['Ticket_title'] = test['Ticket_title'].map(Ticket_mapping2)"
   ]
  },
  {
   "cell_type": "markdown",
   "metadata": {
    "colab_type": "text",
    "id": "WC0ARsamLYd4"
   },
   "source": [
    "#### Age의 결측치에는 Family_size의 나이평균값으로 채웠고,\n",
    "#### Fare은 다른 Fare값들의 median값으로 채웠다."
   ]
  },
  {
   "cell_type": "code",
   "execution_count": 524,
   "metadata": {
    "ExecuteTime": {
     "end_time": "2020-01-04T05:44:08.370223Z",
     "start_time": "2020-01-04T05:44:08.362211Z"
    },
    "colab": {},
    "colab_type": "code",
    "id": "ZfrBkgwPLQt_"
   },
   "outputs": [],
   "source": [
    "test['Age'] = test['Age'].fillna(test.groupby('Family_size')['Age'].transform(\"median\"))"
   ]
  },
  {
   "cell_type": "code",
   "execution_count": 525,
   "metadata": {
    "ExecuteTime": {
     "end_time": "2020-01-04T05:44:08.512808Z",
     "start_time": "2020-01-04T05:44:08.507821Z"
    },
    "colab": {},
    "colab_type": "code",
    "id": "Yd6PHxIqLQwO"
   },
   "outputs": [],
   "source": [
    "test['Fare'] = test['Fare'].fillna(test['Fare'].median())"
   ]
  },
  {
   "cell_type": "code",
   "execution_count": 526,
   "metadata": {
    "ExecuteTime": {
     "end_time": "2020-01-04T05:44:08.673415Z",
     "start_time": "2020-01-04T05:44:08.668392Z"
    },
    "colab": {},
    "colab_type": "code",
    "id": "8aOZkdRYLQyf"
   },
   "outputs": [],
   "source": [
    "x = test['Name']\n",
    "mid_name = x.str.extract('([A-Za-z]+)\\.', expand = False)"
   ]
  },
  {
   "cell_type": "code",
   "execution_count": 527,
   "metadata": {
    "ExecuteTime": {
     "end_time": "2020-01-04T05:44:08.833985Z",
     "start_time": "2020-01-04T05:44:08.828962Z"
    },
    "colab": {},
    "colab_type": "code",
    "id": "NSm_KiETLQ1F"
   },
   "outputs": [],
   "source": [
    "test['Main_name'] = mid_name"
   ]
  },
  {
   "cell_type": "code",
   "execution_count": 528,
   "metadata": {
    "ExecuteTime": {
     "end_time": "2020-01-04T05:44:09.257815Z",
     "start_time": "2020-01-04T05:44:09.233880Z"
    },
    "colab": {},
    "colab_type": "code",
    "id": "ERQATcwuLQ23"
   },
   "outputs": [],
   "source": [
    "test.loc[test['Main_name'] == 'Ms','Main_name'] = 'Miss'\n",
    "test.loc[test['Main_name'] == 'Col', 'Main_name'] = 'Others'\n",
    "test.loc[test['Main_name'] == 'Rev', 'Main_name'] = 'Others'\n",
    "test.loc[test['Main_name'] == 'Dona', 'Main_name'] = 'Others'\n",
    "test.loc[test['Main_name'] == 'Dr', 'Main_name'] = 'Others'"
   ]
  },
  {
   "cell_type": "code",
   "execution_count": 529,
   "metadata": {
    "ExecuteTime": {
     "end_time": "2020-01-04T05:44:09.412437Z",
     "start_time": "2020-01-04T05:44:09.408445Z"
    },
    "colab": {},
    "colab_type": "code",
    "id": "1eT2pVPNLkr-"
   },
   "outputs": [],
   "source": [
    "x= test['Age']\n",
    "def Age_group(x):\n",
    "    if x <= 10 :\n",
    "        return '0'\n",
    "    elif x > 10 and x <= 25 :\n",
    "        return '1'\n",
    "    elif x > 25 and x <= 40 :\n",
    "        return '2'\n",
    "    elif x > 40 and x <= 60 :\n",
    "        return '3'\n",
    "    else :\n",
    "        return '4'"
   ]
  },
  {
   "cell_type": "code",
   "execution_count": 530,
   "metadata": {
    "ExecuteTime": {
     "end_time": "2020-01-04T05:44:09.975939Z",
     "start_time": "2020-01-04T05:44:09.970909Z"
    },
    "colab": {},
    "colab_type": "code",
    "id": "t9etz7_0LkuD"
   },
   "outputs": [],
   "source": [
    "test['Age_group'] = test['Age'].map(lambda x : Age_group(x))"
   ]
  },
  {
   "cell_type": "code",
   "execution_count": 531,
   "metadata": {
    "ExecuteTime": {
     "end_time": "2020-01-04T05:44:10.163395Z",
     "start_time": "2020-01-04T05:44:10.159406Z"
    },
    "colab": {},
    "colab_type": "code",
    "id": "CARYzyAhLkwL"
   },
   "outputs": [],
   "source": [
    "x= test['Fare']\n",
    "def Fare_group(x):\n",
    "    if x <= 10 :\n",
    "        return '0'\n",
    "    elif x >= 10 and x <= 25 :\n",
    "        return '1'\n",
    "    elif x >= 25 and x <= 50 :\n",
    "        return '2'\n",
    "    elif x >= 50 and x <= 100 :\n",
    "        return '3'\n",
    "    else :\n",
    "        return '4'"
   ]
  },
  {
   "cell_type": "code",
   "execution_count": 532,
   "metadata": {
    "ExecuteTime": {
     "end_time": "2020-01-04T05:44:10.371869Z",
     "start_time": "2020-01-04T05:44:10.366851Z"
    },
    "colab": {},
    "colab_type": "code",
    "id": "B2N_56KQLk0X"
   },
   "outputs": [],
   "source": [
    "test['Fare_group'] = test['Fare'].map(lambda x : Fare_group(x))"
   ]
  },
  {
   "cell_type": "code",
   "execution_count": 533,
   "metadata": {
    "ExecuteTime": {
     "end_time": "2020-01-04T05:44:10.847564Z",
     "start_time": "2020-01-04T05:44:10.841581Z"
    },
    "colab": {},
    "colab_type": "code",
    "id": "KIXRryi4LpyO"
   },
   "outputs": [],
   "source": [
    "x= test['Family_size']\n",
    "def F_group(x):\n",
    "    if x == 1 :\n",
    "        return '0'\n",
    "    elif x > 1 and x < 4:\n",
    "        return '1'\n",
    "    elif x >= 4 and x < 8:\n",
    "        return '2'\n",
    "    elif x >= 8 and x < 10:\n",
    "        return '3'\n",
    "    else:\n",
    "        return '4'"
   ]
  },
  {
   "cell_type": "code",
   "execution_count": 534,
   "metadata": {
    "ExecuteTime": {
     "end_time": "2020-01-04T05:44:11.272461Z",
     "start_time": "2020-01-04T05:44:11.267442Z"
    },
    "colab": {},
    "colab_type": "code",
    "id": "okQTeAIpLp0f"
   },
   "outputs": [],
   "source": [
    "test['F_group'] = test['Family_size'].map(lambda x : F_group(x))"
   ]
  },
  {
   "cell_type": "code",
   "execution_count": 535,
   "metadata": {
    "ExecuteTime": {
     "end_time": "2020-01-04T05:44:12.815338Z",
     "start_time": "2020-01-04T05:44:12.811313Z"
    }
   },
   "outputs": [],
   "source": [
    "test['Sex'] = test['Sex'].map({'female' : 0, 'male' : 1})"
   ]
  },
  {
   "cell_type": "code",
   "execution_count": 536,
   "metadata": {
    "ExecuteTime": {
     "end_time": "2020-01-04T05:44:16.415733Z",
     "start_time": "2020-01-04T05:44:16.401713Z"
    }
   },
   "outputs": [],
   "source": [
    "test = pd.get_dummies(test, columns = ['Age_group','Fare_group','Embarked','Main_name','F_group','Pclass'])"
   ]
  },
  {
   "cell_type": "code",
   "execution_count": 537,
   "metadata": {
    "ExecuteTime": {
     "end_time": "2020-01-04T05:44:17.074914Z",
     "start_time": "2020-01-04T05:44:17.065939Z"
    }
   },
   "outputs": [
    {
     "data": {
      "text/plain": [
       "Index(['PassengerId', 'Survived', 'Name', 'Sex', 'Age', 'SibSp', 'Parch',\n",
       "       'Ticket', 'Fare', 'Cabin', 'Family_size', 'Ticket_title', 'Age_group_0',\n",
       "       'Age_group_1', 'Age_group_2', 'Age_group_3', 'Age_group_4',\n",
       "       'Fare_group_0', 'Fare_group_1', 'Fare_group_2', 'Fare_group_3',\n",
       "       'Fare_group_4', 'Embarked_C', 'Embarked_Q', 'Embarked_S',\n",
       "       'Main_name_Master', 'Main_name_Miss', 'Main_name_Mr', 'Main_name_Mrs',\n",
       "       'Main_name_Others', 'F_group_0', 'F_group_1', 'F_group_2', 'F_group_3',\n",
       "       'F_group_4', 'Pclass_1', 'Pclass_2', 'Pclass_3'],\n",
       "      dtype='object')"
      ]
     },
     "execution_count": 537,
     "metadata": {},
     "output_type": "execute_result"
    }
   ],
   "source": [
    "train.columns"
   ]
  },
  {
   "cell_type": "code",
   "execution_count": 538,
   "metadata": {
    "ExecuteTime": {
     "end_time": "2020-01-04T05:44:17.370155Z",
     "start_time": "2020-01-04T05:44:17.364140Z"
    }
   },
   "outputs": [
    {
     "data": {
      "text/plain": [
       "Index(['PassengerId', 'Name', 'Sex', 'Age', 'SibSp', 'Parch', 'Ticket', 'Fare',\n",
       "       'Cabin', 'Family_size', 'Ticket_title', 'Age_group_0', 'Age_group_1',\n",
       "       'Age_group_2', 'Age_group_3', 'Age_group_4', 'Fare_group_0',\n",
       "       'Fare_group_1', 'Fare_group_2', 'Fare_group_3', 'Fare_group_4',\n",
       "       'Embarked_C', 'Embarked_Q', 'Embarked_S', 'Main_name_Master',\n",
       "       'Main_name_Miss', 'Main_name_Mr', 'Main_name_Mrs', 'Main_name_Others',\n",
       "       'F_group_0', 'F_group_1', 'F_group_2', 'F_group_3', 'F_group_4',\n",
       "       'Pclass_1', 'Pclass_2', 'Pclass_3'],\n",
       "      dtype='object')"
      ]
     },
     "execution_count": 538,
     "metadata": {},
     "output_type": "execute_result"
    }
   ],
   "source": [
    "test.columns"
   ]
  },
  {
   "cell_type": "code",
   "execution_count": 543,
   "metadata": {
    "ExecuteTime": {
     "end_time": "2020-01-04T05:48:35.659141Z",
     "start_time": "2020-01-04T05:48:35.654192Z"
    }
   },
   "outputs": [],
   "source": [
    "train_columns = ['Sex', 'Ticket_title', 'Age_group_0',\n",
    "       'Age_group_1', 'Age_group_2', 'Age_group_3', 'Age_group_4',\n",
    "       'Fare_group_0', 'Fare_group_1', 'Fare_group_2', 'Fare_group_3',\n",
    "       'Fare_group_4', 'Embarked_C', 'Embarked_Q', 'Embarked_S',\n",
    "       'Main_name_Master', 'Main_name_Miss', 'Main_name_Mr', 'Main_name_Mrs',\n",
    "       'Main_name_Others', 'F_group_0', 'F_group_1', 'F_group_2', 'F_group_3',\n",
    "       'F_group_4', 'Pclass_1', 'Pclass_2', 'Pclass_3']"
   ]
  },
  {
   "cell_type": "code",
   "execution_count": 650,
   "metadata": {
    "ExecuteTime": {
     "end_time": "2020-01-04T06:43:00.776880Z",
     "start_time": "2020-01-04T06:43:00.771861Z"
    },
    "colab": {},
    "colab_type": "code",
    "id": "p9O16UevLp2d"
   },
   "outputs": [],
   "source": [
    "x_train = train[train_columns]\n",
    "y_train = train['Survived']\n",
    "test = test[train_columns]"
   ]
  },
  {
   "cell_type": "markdown",
   "metadata": {
    "colab_type": "text",
    "id": "MR3V--sQM1Xj"
   },
   "source": [
    "# 3. 모델 적용 및 제출"
   ]
  },
  {
   "cell_type": "markdown",
   "metadata": {},
   "source": [
    "### . RandomForest"
   ]
  },
  {
   "cell_type": "code",
   "execution_count": 652,
   "metadata": {
    "ExecuteTime": {
     "end_time": "2020-01-04T06:49:17.664100Z",
     "start_time": "2020-01-04T06:43:24.192261Z"
    }
   },
   "outputs": [
    {
     "data": {
      "text/plain": [
       "GridSearchCV(cv=5, error_score='raise-deprecating',\n",
       "       estimator=RandomForestClassifier(bootstrap=True, class_weight=None, criterion='gini',\n",
       "            max_depth=None, max_features='auto', max_leaf_nodes=None,\n",
       "            min_impurity_decrease=0.0, min_impurity_split=None,\n",
       "            min_samples_leaf=1, min_samples_split=2,\n",
       "            min_weight_fraction_leaf=0.0, n_estimators='warn', n_jobs=None,\n",
       "            oob_score=False, random_state=6, verbose=0, warm_start=False),\n",
       "       fit_params=None, iid='warn', n_jobs=None,\n",
       "       param_grid={'n_estimators': [200, 500, 700, 1000], 'max_features': ['auto', 'sqrt', 'log2'], 'max_depth': [4, 5, 6, 7, 8, 9, 10]},\n",
       "       pre_dispatch='2*n_jobs', refit=True, return_train_score='warn',\n",
       "       scoring=None, verbose=0)"
      ]
     },
     "execution_count": 652,
     "metadata": {},
     "output_type": "execute_result"
    }
   ],
   "source": [
    "rfc=RandomForestClassifier(random_state=6)\n",
    "\n",
    "param_grid = { \n",
    "    'n_estimators': [200, 500, 700, 1000],\n",
    "    'max_features': ['auto', 'sqrt', 'log2'],\n",
    "    'max_depth' : [4,5,6,7,8,9,10]\n",
    "}\n",
    "\n",
    "RFR = GridSearchCV(estimator=rfc, param_grid=param_grid, cv= 5)\n",
    "RFR.fit(x_train, y_train)"
   ]
  },
  {
   "cell_type": "code",
   "execution_count": 653,
   "metadata": {
    "ExecuteTime": {
     "end_time": "2020-01-04T06:50:19.510198Z",
     "start_time": "2020-01-04T06:50:19.505206Z"
    }
   },
   "outputs": [
    {
     "data": {
      "text/plain": [
       "{'max_depth': 4, 'max_features': 'auto', 'n_estimators': 200}"
      ]
     },
     "execution_count": 653,
     "metadata": {},
     "output_type": "execute_result"
    }
   ],
   "source": [
    "RFR.best_params_"
   ]
  },
  {
   "cell_type": "code",
   "execution_count": 654,
   "metadata": {
    "ExecuteTime": {
     "end_time": "2020-01-04T06:50:33.795988Z",
     "start_time": "2020-01-04T06:50:33.791997Z"
    }
   },
   "outputs": [],
   "source": [
    "rfr=RandomForestClassifier(random_state=6, max_features='auto', n_estimators= 200, max_depth=4)"
   ]
  },
  {
   "cell_type": "code",
   "execution_count": 655,
   "metadata": {
    "ExecuteTime": {
     "end_time": "2020-01-04T06:50:34.939933Z",
     "start_time": "2020-01-04T06:50:34.701566Z"
    }
   },
   "outputs": [
    {
     "data": {
      "text/plain": [
       "RandomForestClassifier(bootstrap=True, class_weight=None, criterion='gini',\n",
       "            max_depth=4, max_features='auto', max_leaf_nodes=None,\n",
       "            min_impurity_decrease=0.0, min_impurity_split=None,\n",
       "            min_samples_leaf=1, min_samples_split=2,\n",
       "            min_weight_fraction_leaf=0.0, n_estimators=200, n_jobs=None,\n",
       "            oob_score=False, random_state=6, verbose=0, warm_start=False)"
      ]
     },
     "execution_count": 655,
     "metadata": {},
     "output_type": "execute_result"
    }
   ],
   "source": [
    "model = rfr.fit(x_train,y_train)\n",
    "model"
   ]
  },
  {
   "cell_type": "code",
   "execution_count": 656,
   "metadata": {
    "ExecuteTime": {
     "end_time": "2020-01-04T06:50:36.208541Z",
     "start_time": "2020-01-04T06:50:36.184606Z"
    }
   },
   "outputs": [
    {
     "data": {
      "text/plain": [
       "array([0, 1, 0, 0, 1, 0, 1, 0, 1, 0, 0, 0, 1, 0, 1, 1, 0, 0, 0, 1, 0, 1,\n",
       "       1, 0, 1, 0, 1, 0, 0, 0, 0, 0, 0, 0, 0, 0, 1, 1, 0, 0, 0, 0, 0, 1,\n",
       "       1, 0, 0, 0, 1, 1, 0, 0, 1, 1, 0, 0, 0, 0, 0, 1, 0, 0, 0, 1, 1, 1,\n",
       "       1, 0, 0, 1, 1, 0, 1, 0, 1, 0, 0, 1, 0, 1, 1, 0, 0, 0, 0, 0, 1, 1,\n",
       "       1, 1, 1, 0, 1, 0, 0, 0, 1, 0, 1, 0, 1, 0, 0, 0, 1, 0, 0, 0, 0, 0,\n",
       "       0, 1, 1, 1, 1, 0, 0, 1, 0, 1, 1, 0, 1, 0, 0, 1, 0, 1, 0, 0, 0, 0,\n",
       "       0, 0, 0, 0, 0, 0, 1, 0, 0, 1, 0, 0, 0, 0, 0, 0, 0, 0, 1, 0, 0, 1,\n",
       "       0, 0, 1, 1, 0, 1, 1, 1, 1, 0, 0, 1, 0, 0, 1, 1, 0, 0, 0, 0, 0, 1,\n",
       "       1, 0, 1, 1, 0, 0, 1, 0, 1, 0, 1, 0, 0, 0, 0, 0, 1, 0, 1, 0, 1, 1,\n",
       "       0, 1, 1, 1, 1, 1, 0, 0, 1, 0, 1, 0, 0, 0, 0, 1, 0, 0, 1, 0, 1, 0,\n",
       "       1, 0, 1, 0, 1, 1, 0, 1, 0, 0, 0, 1, 0, 0, 0, 0, 0, 0, 1, 1, 1, 1,\n",
       "       0, 0, 0, 0, 1, 0, 1, 1, 1, 0, 0, 0, 0, 0, 0, 0, 1, 0, 0, 0, 1, 1,\n",
       "       0, 0, 0, 0, 1, 0, 0, 0, 1, 1, 0, 1, 0, 0, 0, 0, 1, 1, 1, 1, 1, 0,\n",
       "       0, 0, 0, 0, 0, 1, 0, 1, 0, 0, 1, 0, 0, 0, 0, 0, 0, 0, 1, 1, 0, 1,\n",
       "       0, 1, 0, 0, 0, 1, 1, 1, 0, 0, 0, 0, 0, 0, 0, 0, 1, 0, 1, 0, 0, 0,\n",
       "       1, 0, 0, 1, 0, 0, 0, 0, 0, 0, 0, 0, 0, 1, 1, 1, 0, 1, 0, 1, 1, 0,\n",
       "       0, 0, 0, 0, 1, 0, 0, 1, 0, 1, 1, 0, 1, 1, 0, 1, 1, 0, 0, 1, 0, 0,\n",
       "       1, 1, 1, 0, 0, 0, 0, 0, 1, 1, 0, 1, 0, 0, 0, 0, 0, 1, 1, 0, 0, 1,\n",
       "       0, 1, 0, 0, 1, 0, 1, 0, 0, 0, 0, 0, 1, 1, 1, 1, 1, 0, 1, 0, 0, 1],\n",
       "      dtype=int64)"
      ]
     },
     "execution_count": 656,
     "metadata": {},
     "output_type": "execute_result"
    }
   ],
   "source": [
    "y_pred = model.predict(test)\n",
    "y_pred"
   ]
  },
  {
   "cell_type": "code",
   "execution_count": 657,
   "metadata": {
    "ExecuteTime": {
     "end_time": "2020-01-04T06:50:42.271530Z",
     "start_time": "2020-01-04T06:50:41.467473Z"
    },
    "colab": {},
    "colab_type": "code",
    "id": "q8FEbGcKL650"
   },
   "outputs": [],
   "source": [
    "test2 = pd.read_csv('http://s3.amazonaws.com/assets.datacamp.com/course/Kaggle/test.csv',engine = 'python')\n",
    "test2['Survived'] = y_pred"
   ]
  },
  {
   "cell_type": "code",
   "execution_count": 658,
   "metadata": {
    "ExecuteTime": {
     "end_time": "2020-01-04T06:50:42.748019Z",
     "start_time": "2020-01-04T06:50:42.742067Z"
    },
    "colab": {},
    "colab_type": "code",
    "id": "PZZd8ad2L63-"
   },
   "outputs": [],
   "source": [
    "final = test2[['PassengerId','Survived']]"
   ]
  },
  {
   "cell_type": "code",
   "execution_count": null,
   "metadata": {
    "ExecuteTime": {
     "end_time": "2020-01-04T06:50:43.366423Z",
     "start_time": "2020-01-04T06:50:43.357423Z"
    },
    "colab": {},
    "colab_type": "code",
    "id": "_L04FfguLk2Q"
   },
   "outputs": [],
   "source": [
    "final.to_csv('C:/Users/laks1/Downloads/titanic.csv',sep=',',index = False)"
   ]
  },
  {
   "cell_type": "markdown",
   "metadata": {},
   "source": [
    "#### . kaggle`s score : 79.9"
   ]
  }
 ],
 "metadata": {
  "colab": {
   "collapsed_sections": [
    "O4aU0rGDMpYC",
    "MR3V--sQM1Xj"
   ],
   "name": "데이콘 1차대회 titanic_박찬진.ipynb",
   "provenance": []
  },
  "kernelspec": {
   "display_name": "Python 3",
   "language": "python",
   "name": "python3"
  },
  "language_info": {
   "codemirror_mode": {
    "name": "ipython",
    "version": 3
   },
   "file_extension": ".py",
   "mimetype": "text/x-python",
   "name": "python",
   "nbconvert_exporter": "python",
   "pygments_lexer": "ipython3",
   "version": "3.7.1"
  },
  "toc": {
   "base_numbering": 1,
   "nav_menu": {},
   "number_sections": true,
   "sideBar": true,
   "skip_h1_title": false,
   "title_cell": "Table of Contents",
   "title_sidebar": "Contents",
   "toc_cell": false,
   "toc_position": {
    "height": "calc(100% - 180px)",
    "left": "10px",
    "top": "150px",
    "width": "307.2px"
   },
   "toc_section_display": true,
   "toc_window_display": true
  },
  "varInspector": {
   "cols": {
    "lenName": 16,
    "lenType": 16,
    "lenVar": 40
   },
   "kernels_config": {
    "python": {
     "delete_cmd_postfix": "",
     "delete_cmd_prefix": "del ",
     "library": "var_list.py",
     "varRefreshCmd": "print(var_dic_list())"
    },
    "r": {
     "delete_cmd_postfix": ") ",
     "delete_cmd_prefix": "rm(",
     "library": "var_list.r",
     "varRefreshCmd": "cat(var_dic_list()) "
    }
   },
   "position": {
    "height": "526.4px",
    "left": "1166px",
    "right": "20px",
    "top": "120px",
    "width": "350px"
   },
   "types_to_exclude": [
    "module",
    "function",
    "builtin_function_or_method",
    "instance",
    "_Feature"
   ],
   "window_display": false
  }
 },
 "nbformat": 4,
 "nbformat_minor": 1
}
